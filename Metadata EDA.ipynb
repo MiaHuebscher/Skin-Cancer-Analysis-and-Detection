{
 "cells": [
  {
   "cell_type": "code",
   "execution_count": 15,
   "id": "0e2a01a3",
   "metadata": {},
   "outputs": [],
   "source": [
    "# Import libraries\n",
    "import zipfile\n",
    "import pandas as pd\n",
    "from collections import Counter\n",
    "import matplotlib.pyplot as plt"
   ]
  },
  {
   "cell_type": "markdown",
   "id": "35bbb7a0",
   "metadata": {},
   "source": [
    "Notes from Analysis:\n",
    "- can remove patients before age 20 from data"
   ]
  },
  {
   "cell_type": "code",
   "execution_count": 4,
   "id": "ec1adb09",
   "metadata": {},
   "outputs": [],
   "source": [
    "# Load data\n",
    "zip_folder = zipfile.ZipFile('anon-patient-data.zip')\n",
    "skin_cancer_df = pd.read_csv(zip_folder.open('train-metadata.csv'), \n",
    "                             usecols=[num for num in range(0, 43) if num not in [2, 7, 8, 31]], index_col='isic_id')"
   ]
  },
  {
   "cell_type": "code",
   "execution_count": null,
   "id": "a86f8377",
   "metadata": {},
   "outputs": [],
   "source": [
    "# Analyzing gender - get data\n",
    "genders = skin_cancer_df['sex']\n",
    "cancer_genders = skin_cancer_df[skin_cancer_df['target'] == 1]['sex']\n",
    "noncancer_genders = skin_cancer_df[skin_cancer_df['target'] == 0]['sex']\n",
    "\n",
    "# Count occurences\n",
    "\n",
    "\n",
    "# Plot data\n",
    "plt.figure(1)\n",
    "plt.title('All Patients')\n",
    "plt.show()\n",
    "\n",
    "plt.figure(2)\n",
    "plt.title('Cancerous Patients')\n",
    "plt.show()\n",
    "\n",
    "plt.figure(3)\n",
    "plt.title('Non-Cancerous Patients')\n",
    "plt.show()"
   ]
  },
  {
   "cell_type": "code",
   "execution_count": 13,
   "id": "595c3bb6",
   "metadata": {},
   "outputs": [
    {
     "data": {
      "image/png": "[encoded data removed]",
      "text/plain": [
       "<Figure size 432x288 with 1 Axes>"
      ]
     },
     "metadata": {
      "needs_background": "light"
     },
     "output_type": "display_data"
    },
    {
     "data": {
      "image/png": "[encoded data removed]",
      "text/plain": [
       "<Figure size 432x288 with 1 Axes>"
      ]
     },
     "metadata": {
      "needs_background": "light"
     },
     "output_type": "display_data"
    }
   ],
   "source": [
    "# Analyzing ages - get data\n",
    "ages = skin_cancer_df['age_approx']\n",
    "cancer_ages = skin_cancer_df[skin_cancer_df['target'] == 1]['age_approx']\n",
    "noncancer_ages = skin_cancer_df[skin_cancer_df['target'] == 0]['age_approx']\n",
    "\n",
    "# Plot data\n",
    "plt.figure(1)\n",
    "plt.title('All Patients')\n",
    "plt.xlabel('Age Approximations')\n",
    "plt.hist(ages, color='saddlebrown')\n",
    "plt.show()\n",
    "\n",
    "plt.figure(2)\n",
    "plt.title('Cancerous Patients')\n",
    "plt.xlabel('Age Approximations')\n",
    "plt.hist(cancer_ages, color='red')\n",
    "plt.show()\n",
    "\n",
    "plt.figure(3)\n",
    "plt.title('Non-Cancerous Patients')\n",
    "plt.xlabel('Age Approximations')\n",
    "plt.hist(noncancer_ages, color='green')\n",
    "plt.show()"
   ]
  }
 ],
 "metadata": {
  "kernelspec": {
   "display_name": "Python 3",
   "language": "python",
   "name": "python3"
  },
  "language_info": {
   "codemirror_mode": {
    "name": "ipython",
    "version": 3
   },
   "file_extension": ".py",
   "mimetype": "text/x-python",
   "name": "python",
   "nbconvert_exporter": "python",
   "pygments_lexer": "ipython3",
   "version": "3.8.8"
  }
 },
 "nbformat": 4,
 "nbformat_minor": 5
}
