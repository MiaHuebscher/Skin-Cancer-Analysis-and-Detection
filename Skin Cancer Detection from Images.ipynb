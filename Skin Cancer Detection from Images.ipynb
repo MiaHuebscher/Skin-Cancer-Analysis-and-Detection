{
 "cells": [
  {
   "cell_type": "code",
   "execution_count": 3,
   "id": "d873c2c2",
   "metadata": {},
   "outputs": [],
   "source": [
    "# Import libraries\n",
    "import os\n",
    "import zipfile\n",
    "import numpy as np\n",
    "import pandas as pd\n",
    "from io import BytesIO\n",
    "from tensorflow.keras.applications import ResNet50\n",
    "from tensorflow.keras.preprocessing.image import load_img, img_to_array\n",
    "from tensorflow.keras.applications.resnet50 import preprocess_input\n",
    "from sklearn.ensemble import IsolationForest\n",
    "from sklearn.preprocessing import MinMaxScaler"
   ]
  },
  {
   "cell_type": "markdown",
   "id": "ba5b58fa",
   "metadata": {},
   "source": [
    "## To get richer cancerous data, we can either: \n",
    "1) apply rotations, cropping, and other alterations to cancerous images or 2) apply SMOTE on features to maybe get better results\n"
   ]
  },
  {
   "cell_type": "markdown",
   "id": "207c4839",
   "metadata": {},
   "source": [
    "# Data Preprocessing"
   ]
  },
  {
   "cell_type": "code",
   "execution_count": 12,
   "id": "71388159",
   "metadata": {},
   "outputs": [],
   "source": [
    "# Obtain the true target values from the metadata\n",
    "zip_folder = zipfile.ZipFile('anon-patient-data.zip')\n",
    "true_targets = pd.read_csv(zip_folder.open('train-metadata.csv'), usecols=[0, 1], index_col='isic_id')"
   ]
  },
  {
   "cell_type": "code",
   "execution_count": null,
   "id": "461b8f00",
   "metadata": {},
   "outputs": [],
   "source": [
    "# Extract features using ResNet50 and batch procesing\n",
    "resnet_model = ResNet50(weights='imagenet', include_top=False, pooling='avg')\n",
    "\n",
    "def extract_features_from_image(img):\n",
    "    img_array = img_to_array(img)\n",
    "    img_array = np.expand_dims(img_array, axis=0)  # Add batch dimension\n",
    "    img_array = preprocess_input(img_array)  # Preprocess for ResNet50\n",
    "    features = resnet_model.predict(img_array)  # Extract features\n",
    "    return features.flatten()\n",
    "\n",
    "def feature_batch_generator(zip_file, img_size=(224, 224), batch_size=32):\n",
    "    with zipfile.ZipFile(zip_file, 'r') as z:\n",
    "        files = [file for file in z.namelist() if file.startswith('images/') and file.endswith('.jpg')]\n",
    "        \n",
    "        for i in range(0, len(files), batch_size):\n",
    "            batch_files = files[i:i + batch_size]\n",
    "            features = []\n",
    "            for file in batch_files:\n",
    "                with z.open(file) as img_file:\n",
    "                    img = load_img(BytesIO(img_file.read()), target_size=img_size)\n",
    "                    img_features = extract_features_from_image(img)\n",
    "                    features.append(img_features)\n",
    "            yield np.array(features)"
   ]
  },
  {
   "cell_type": "markdown",
   "id": "99f0fc1c",
   "metadata": {},
   "source": [
    "# Method 1: Isolation Forest"
   ]
  },
  {
   "cell_type": "code",
   "execution_count": null,
   "id": "8b321bfe",
   "metadata": {},
   "outputs": [],
   "source": [
    "# Initialize tools\n",
    "iso_forest = IsolationForest(contamination=0.1, random_state=42)\n",
    "scaler = MinMaxScaler()\n",
    "\n",
    "# Process features with batch processing\n",
    "for feature_batch in feature_batch_generator('anon-patient-data.zip', batch_size=32):\n",
    "    \n",
    "    # Standardize the features\n",
    "    feature_batch_scaled = scaler.fit_transform(feature_batch)\n",
    "\n",
    "    # Fit Isolation Forest and predict anomalies, -1 = anomaly, 1 = normal\n",
    "    predictions = iso_forest.fit_predict(feature_batch_scaled)\n",
    "\n",
    "    cr = classification_report(true_targets.values.reshape(len(true_targets)), predictions)\n",
    "    print(cr)"
   ]
  },
  {
   "cell_type": "markdown",
   "id": "35f7dd38",
   "metadata": {},
   "source": [
    "# Method 2: Convolutional Autoencoder"
   ]
  },
  {
   "cell_type": "code",
   "execution_count": null,
   "id": "09db094b",
   "metadata": {},
   "outputs": [],
   "source": []
  }
 ],
 "metadata": {
  "kernelspec": {
   "display_name": "Python 3",
   "language": "python",
   "name": "python3"
  },
  "language_info": {
   "codemirror_mode": {
    "name": "ipython",
    "version": 3
   },
   "file_extension": ".py",
   "mimetype": "text/x-python",
   "name": "python",
   "nbconvert_exporter": "python",
   "pygments_lexer": "ipython3",
   "version": "3.8.8"
  }
 },
 "nbformat": 4,
 "nbformat_minor": 5
}
